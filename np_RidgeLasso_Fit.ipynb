{
 "cells": [
  {
   "cell_type": "code",
   "execution_count": 1,
   "metadata": {
    "collapsed": true
   },
   "outputs": [],
   "source": [
    "# Python 2 & 3 Compatibility\n",
    "from __future__ import print_function, division"
   ]
  },
  {
   "cell_type": "code",
   "execution_count": 2,
   "metadata": {
    "collapsed": true
   },
   "outputs": [],
   "source": [
    "import pandas as pd\n",
    "import numpy as np\n",
    "#import matplotlib.pyplot as plt\n",
    "\n",
    "from bs4 import BeautifulSoup\n",
    "from urllib2 import urlopen\n",
    "import matplotlib.pyplot as plt\n",
    "import unicodedata\n",
    "import requests\n",
    "import re\n",
    "\n",
    "%matplotlib inline"
   ]
  },
  {
   "cell_type": "code",
   "execution_count": 3,
   "metadata": {
    "collapsed": true
   },
   "outputs": [],
   "source": [
    "from sklearn.model_selection import train_test_split\n",
    "from sklearn.linear_model import LinearRegression"
   ]
  },
  {
   "cell_type": "code",
   "execution_count": 5,
   "metadata": {
    "collapsed": true
   },
   "outputs": [],
   "source": [
    "import seaborn as sns\n",
    "from seaborn import plt\n",
    "from sklearn.linear_model import LinearRegression\n",
    "from sklearn.linear_model import RidgeCV\n",
    "from sklearn import metrics"
   ]
  },
  {
   "cell_type": "markdown",
   "metadata": {},
   "source": [
    "# Intro: Ridge and Lasso regression\n",
    "\n",
    "Working from the preliminary notebook np_workingFit.ipynb, this notebook extends the Linear Regression fit adding shrinkage to the regression parameters to attempt to get a better explanory model "
   ]
  },
  {
   "cell_type": "code",
   "execution_count": 6,
   "metadata": {
    "collapsed": true
   },
   "outputs": [],
   "source": [
    "df = pd.read_csv('dat_engRATE.csv')"
   ]
  },
  {
   "cell_type": "code",
   "execution_count": 7,
   "metadata": {
    "collapsed": true
   },
   "outputs": [],
   "source": [
    "df_smaller = df.loc[:,['Rating', 'Rating_Count','w_Rating' ,'logRating_Count', 'Pages', 'Metascore',\n",
    "                          'Year', 'imdbRating', 'tomatoRating','tomatoU' ]]"
   ]
  },
  {
   "cell_type": "code",
   "execution_count": 8,
   "metadata": {
    "collapsed": false
   },
   "outputs": [
    {
     "data": {
      "text/html": [
       "<div>\n",
       "<table border=\"1\" class=\"dataframe\">\n",
       "  <thead>\n",
       "    <tr style=\"text-align: right;\">\n",
       "      <th></th>\n",
       "      <th>Rating</th>\n",
       "      <th>Rating_Count</th>\n",
       "      <th>w_Rating</th>\n",
       "      <th>logRating_Count</th>\n",
       "      <th>Pages</th>\n",
       "      <th>Metascore</th>\n",
       "      <th>Year</th>\n",
       "      <th>imdbRating</th>\n",
       "      <th>tomatoRating</th>\n",
       "      <th>tomatoU</th>\n",
       "    </tr>\n",
       "  </thead>\n",
       "  <tbody>\n",
       "    <tr>\n",
       "      <th>0</th>\n",
       "      <td>4.11</td>\n",
       "      <td>169979</td>\n",
       "      <td>3.27</td>\n",
       "      <td>5.23</td>\n",
       "      <td>297</td>\n",
       "      <td>86</td>\n",
       "      <td>1968</td>\n",
       "      <td>8.3</td>\n",
       "      <td>9.1</td>\n",
       "      <td>3.8</td>\n",
       "    </tr>\n",
       "    <tr>\n",
       "      <th>1</th>\n",
       "      <td>3.95</td>\n",
       "      <td>7455</td>\n",
       "      <td>2.33</td>\n",
       "      <td>3.87</td>\n",
       "      <td>448</td>\n",
       "      <td>42</td>\n",
       "      <td>2002</td>\n",
       "      <td>6.2</td>\n",
       "      <td>4.1</td>\n",
       "      <td>3.1</td>\n",
       "    </tr>\n",
       "    <tr>\n",
       "      <th>2</th>\n",
       "      <td>3.79</td>\n",
       "      <td>109745</td>\n",
       "      <td>2.91</td>\n",
       "      <td>5.04</td>\n",
       "      <td>307</td>\n",
       "      <td>75</td>\n",
       "      <td>2002</td>\n",
       "      <td>7.1</td>\n",
       "      <td>7.7</td>\n",
       "      <td>2.8</td>\n",
       "    </tr>\n",
       "  </tbody>\n",
       "</table>\n",
       "</div>"
      ],
      "text/plain": [
       "   Rating  Rating_Count  w_Rating  logRating_Count  Pages  Metascore  Year  \\\n",
       "0    4.11        169979      3.27             5.23    297         86  1968   \n",
       "1    3.95          7455      2.33             3.87    448         42  2002   \n",
       "2    3.79        109745      2.91             5.04    307         75  2002   \n",
       "\n",
       "   imdbRating  tomatoRating  tomatoU  \n",
       "0         8.3           9.1      3.8  \n",
       "1         6.2           4.1      3.1  \n",
       "2         7.1           7.7      2.8  "
      ]
     },
     "execution_count": 8,
     "metadata": {},
     "output_type": "execute_result"
    }
   ],
   "source": [
    "df_smaller[:3]"
   ]
  },
  {
   "cell_type": "markdown",
   "metadata": {},
   "source": [
    "### POLYNOMIAL of values"
   ]
  },
  {
   "cell_type": "code",
   "execution_count": 10,
   "metadata": {
    "collapsed": false
   },
   "outputs": [
    {
     "data": {
      "text/html": [
       "<div>\n",
       "<table border=\"1\" class=\"dataframe\">\n",
       "  <thead>\n",
       "    <tr style=\"text-align: right;\">\n",
       "      <th></th>\n",
       "      <th>Rating</th>\n",
       "      <th>Rating_Count</th>\n",
       "      <th>w_Rating</th>\n",
       "      <th>logRating_Count</th>\n",
       "      <th>Pages</th>\n",
       "      <th>Metascore</th>\n",
       "      <th>Year</th>\n",
       "      <th>imdbRating</th>\n",
       "      <th>tomatoRating</th>\n",
       "      <th>tomatoU</th>\n",
       "      <th>sqrRating</th>\n",
       "      <th>sqrw_Rating</th>\n",
       "      <th>cube_Rating</th>\n",
       "    </tr>\n",
       "  </thead>\n",
       "  <tbody>\n",
       "    <tr>\n",
       "      <th>0</th>\n",
       "      <td>4.11</td>\n",
       "      <td>169979</td>\n",
       "      <td>3.27</td>\n",
       "      <td>5.23</td>\n",
       "      <td>297</td>\n",
       "      <td>86</td>\n",
       "      <td>1968</td>\n",
       "      <td>8.3</td>\n",
       "      <td>9.1</td>\n",
       "      <td>3.8</td>\n",
       "      <td>16.8921</td>\n",
       "      <td>10.6929</td>\n",
       "      <td>69.426531</td>\n",
       "    </tr>\n",
       "    <tr>\n",
       "      <th>1</th>\n",
       "      <td>3.95</td>\n",
       "      <td>7455</td>\n",
       "      <td>2.33</td>\n",
       "      <td>3.87</td>\n",
       "      <td>448</td>\n",
       "      <td>42</td>\n",
       "      <td>2002</td>\n",
       "      <td>6.2</td>\n",
       "      <td>4.1</td>\n",
       "      <td>3.1</td>\n",
       "      <td>15.6025</td>\n",
       "      <td>5.4289</td>\n",
       "      <td>61.629875</td>\n",
       "    </tr>\n",
       "    <tr>\n",
       "      <th>2</th>\n",
       "      <td>3.79</td>\n",
       "      <td>109745</td>\n",
       "      <td>2.91</td>\n",
       "      <td>5.04</td>\n",
       "      <td>307</td>\n",
       "      <td>75</td>\n",
       "      <td>2002</td>\n",
       "      <td>7.1</td>\n",
       "      <td>7.7</td>\n",
       "      <td>2.8</td>\n",
       "      <td>14.3641</td>\n",
       "      <td>8.4681</td>\n",
       "      <td>54.439939</td>\n",
       "    </tr>\n",
       "  </tbody>\n",
       "</table>\n",
       "</div>"
      ],
      "text/plain": [
       "   Rating  Rating_Count  w_Rating  logRating_Count  Pages  Metascore  Year  \\\n",
       "0    4.11        169979      3.27             5.23    297         86  1968   \n",
       "1    3.95          7455      2.33             3.87    448         42  2002   \n",
       "2    3.79        109745      2.91             5.04    307         75  2002   \n",
       "\n",
       "   imdbRating  tomatoRating  tomatoU  sqrRating  sqrw_Rating  cube_Rating  \n",
       "0         8.3           9.1      3.8    16.8921      10.6929    69.426531  \n",
       "1         6.2           4.1      3.1    15.6025       5.4289    61.629875  \n",
       "2         7.1           7.7      2.8    14.3641       8.4681    54.439939  "
      ]
     },
     "execution_count": 10,
     "metadata": {},
     "output_type": "execute_result"
    }
   ],
   "source": [
    "df_smaller['sqrRating'] = np.square(df_smaller.Rating)\n",
    "df_smaller['sqrw_Rating'] = np.square(df_smaller.w_Rating)\n",
    "df_smaller['cube_Rating'] = df_smaller.Rating**3\n",
    "\n",
    "df_smaller[:3]"
   ]
  },
  {
   "cell_type": "code",
   "execution_count": 9,
   "metadata": {
    "collapsed": true
   },
   "outputs": [],
   "source": [
    "responses = ['imdbRating', 'tomatoRating','tomatoU','Metascore']\n",
    "predictor = ['w_Rating','Rating']"
   ]
  },
  {
   "cell_type": "code",
   "execution_count": 11,
   "metadata": {
    "collapsed": false
   },
   "outputs": [
    {
     "name": "stdout",
     "output_type": "stream",
     "text": [
      "imdbRating \t ['Rating', 'Rating_Count', 'w_Rating', 'logRating_Count', 'sqrRating', 'sqrw_Rating', 'Pages', 'Year']\n"
     ]
    }
   ],
   "source": [
    "re_name = responses[0]\n",
    "pred_name = ['Rating', 'Rating_Count','w_Rating' ,'logRating_Count',\n",
    "             'sqrRating','sqrw_Rating', 'Pages', 'Year']#,'cube_Rating']\n",
    "\n",
    "selected_columns = pred_name\n",
    "y = df_smaller[re_name]\n",
    "\n",
    "print(re_name, '\\t',pred_name)"
   ]
  },
  {
   "cell_type": "code",
   "execution_count": 12,
   "metadata": {
    "collapsed": true
   },
   "outputs": [],
   "source": [
    "X=df_smaller.loc[:,selected_columns]\n",
    "X_train, X_test, y_train, y_test = train_test_split(X, y, test_size=0.3,random_state=42)"
   ]
  },
  {
   "cell_type": "code",
   "execution_count": 14,
   "metadata": {
    "collapsed": false
   },
   "outputs": [
    {
     "data": {
      "text/plain": [
       "[('Rating', -6.1020730288910716),\n",
       " ('Rating_Count', 3.2197555953548408e-08),\n",
       " ('w_Rating', 1.5510991627793751),\n",
       " ('logRating_Count', -0.98588839144281615),\n",
       " ('sqrRating', 0.8331308183327738),\n",
       " ('sqrw_Rating', -0.003778654862603037),\n",
       " ('Pages', -0.00041127573990666438),\n",
       " ('Year', -0.027925939534384381)]"
      ]
     },
     "execution_count": 14,
     "metadata": {},
     "output_type": "execute_result"
    }
   ],
   "source": [
    "lr_model_3 = LinearRegression()\n",
    "lr_model_3.fit(X_train,y_train)\n",
    "test_pred_3 = lr_model_3.predict(X_test)\n",
    "list(zip(X_train.columns,lr_model_3.coef_)) \n"
   ]
  },
  {
   "cell_type": "code",
   "execution_count": 16,
   "metadata": {
    "collapsed": false
   },
   "outputs": [
    {
     "data": {
      "image/png": "[encoded data removed]",
      "text/plain": [
       "<matplotlib.figure.Figure at 0x1178fc350>"
      ]
     },
     "metadata": {},
     "output_type": "display_data"
    }
   ],
   "source": [
    "plt.figure(figsize=(5,4))\n",
    "plt.scatter( test_pred_3, y_test, alpha=0.8)\n",
    "plt.plot(np.linspace(4,9), np.linspace(4,9))\n",
    "\n",
    "plt.title('Plotting prediction of {} rating'.format(re_name))\n",
    "plt.ylabel('Actual/Target values');plt.xlabel('Predicted values');"
   ]
  },
  {
   "cell_type": "code",
   "execution_count": 17,
   "metadata": {
    "collapsed": false
   },
   "outputs": [
    {
     "name": "stdout",
     "output_type": "stream",
     "text": [
      "RMSE  0.73300336816\n",
      "MAD 0.570188908685\n",
      "0.0556919469813\n"
     ]
    }
   ],
   "source": [
    "#RMSE\n",
    "print (\"RMSE \", np.sqrt(np.mean((test_pred_3 - y_test)**2)))\n",
    "#MAD\n",
    "print (\"MAD\" ,(np.mean(np.abs(test_pred_3 - y_test))))\n",
    "print (metrics.r2_score(y_test,test_pred_3))"
   ]
  },
  {
   "cell_type": "code",
   "execution_count": 18,
   "metadata": {
    "collapsed": false
   },
   "outputs": [
    {
     "data": {
      "text/plain": [
       "<matplotlib.text.Text at 0x117ad7d10>"
      ]
     },
     "execution_count": 18,
     "metadata": {},
     "output_type": "execute_result"
    },
    {
     "data": {
      "image/png": "[encoded data removed]",
      "text/plain": [
       "<matplotlib.figure.Figure at 0x117a5b190>"
      ]
     },
     "metadata": {},
     "output_type": "display_data"
    }
   ],
   "source": [
    "# Plot Residuals\n",
    "plt.figure(figsize=(4,4))\n",
    "lin_reg_residuals = y_test - test_pred_3\n",
    "plt.scatter(y_test, lin_reg_residuals)\n",
    "plt.plot([0,10], [0, 0])\n",
    "plt.title(\"Actual vs. Residuals\")"
   ]
  },
  {
   "cell_type": "markdown",
   "metadata": {},
   "source": [
    " **tomatoRating (R-2 = 0.088)** does somewhat better  than  imdbRating (R-2 = 0.05569)  Metascore (R-2 = 0.03587 ) and TomatoU (R-2 = 0.0001834). However the model still seems to lack some explanatory power. \n"
   ]
  },
  {
   "cell_type": "markdown",
   "metadata": {},
   "source": [
    "# Ridge and Lasso Regression Models \n",
    "\n",
    "It's time to introduce some shrinkage of the regression coefficients through Ridge and Lasso Reression Model aids"
   ]
  },
  {
   "cell_type": "code",
   "execution_count": 19,
   "metadata": {
    "collapsed": true
   },
   "outputs": [],
   "source": [
    "from sklearn.linear_model import Lasso, Ridge, LassoCV, RidgeCV\n"
   ]
  },
  {
   "cell_type": "code",
   "execution_count": null,
   "metadata": {
    "collapsed": true
   },
   "outputs": [],
   "source": []
  }
 ],
 "metadata": {
  "kernelspec": {
   "display_name": "Python 2",
   "language": "python",
   "name": "python2"
  },
  "language_info": {
   "codemirror_mode": {
    "name": "ipython",
    "version": 2
   },
   "file_extension": ".py",
   "mimetype": "text/x-python",
   "name": "python",
   "nbconvert_exporter": "python",
   "pygments_lexer": "ipython2",
   "version": "2.7.13"
  }
 },
 "nbformat": 4,
 "nbformat_minor": 2
}
